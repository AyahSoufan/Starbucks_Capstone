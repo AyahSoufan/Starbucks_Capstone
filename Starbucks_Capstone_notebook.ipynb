{
 "cells": [
  {
   "cell_type": "markdown",
   "metadata": {},
   "source": [
    "# Starbucks Capstone Challenge\n",
    "\n",
    "### Introduction\n",
    "\n",
    "This project has a solution for Starbucks challenge!\n",
    "This data set contains simulated data that mimics customer behavior on the Starbucks rewards mobile app. Once every few days, Starbucks sends out an offer to users of the mobile app. An offer can be merely an advertisement for a drink or an actual offer such as a discount or BOGO (buy one get one free). Some users might not receive any offer during certain weeks. \n",
    "\n",
    "Not all users receive the same offer, and that is the challenge to solve with this data set.\n",
    "\n",
    "Every offer has a validity period before the offer expires. As an example, a BOGO offer might be valid for only 5 days. You'll see in the data set that informational offers have a validity period even though these ads are merely providing information about a product; for example, if an informational offer has 7 days of validity, you can assume the customer is feeling the influence of the offer for 7 days after receiving the advertisement."
   ]
  },
  {
   "cell_type": "markdown",
   "metadata": {},
   "source": [
    "# Data Sets\n",
    "\n",
    "The data is contained in three files:\n",
    "\n",
    "* portfolio.json - containing offer ids and meta data about each offer (duration, type, etc.)\n",
    "* profile.json - demographic data for each customer\n",
    "* transcript.json - records for transactions, offers received, offers viewed, and offers completed\n",
    "\n",
    "Here is the schema and explanation of each variable in the files:\n",
    "\n",
    "**portfolio.json**\n",
    "* id (string) - offer id\n",
    "* offer_type (string) - type of offer ie BOGO, discount, informational\n",
    "* difficulty (int) - minimum required spend to complete an offer\n",
    "* reward (int) - reward given for completing an offer\n",
    "* duration (int) - time for offer to be open, in days\n",
    "* channels (list of strings)\n",
    "\n",
    "**profile.json**\n",
    "* age (int) - age of the customer \n",
    "* became_member_on (int) - date when customer created an app account\n",
    "* gender (str) - gender of the customer (note some entries contain 'O' for other rather than M or F)\n",
    "* id (str) - customer id\n",
    "* income (float) - customer's income\n",
    "\n",
    "**transcript.json**\n",
    "* event (str) - record description (ie transaction, offer received, offer viewed, etc.)\n",
    "* person (str) - customer id\n",
    "* time (int) - time in hours since start of test. The data begins at time t=0\n",
    "* value - (dict of strings) - either an offer id or transaction amount depending on the record"
   ]
  },
  {
   "cell_type": "markdown",
   "metadata": {},
   "source": [
    "# Data Preparation & Exploration"
   ]
  },
  {
   "cell_type": "code",
   "execution_count": 56,
   "metadata": {
    "collapsed": true
   },
   "outputs": [],
   "source": [
    "import pandas as pd\n",
    "import numpy as np\n",
    "import math\n",
    "import json\n",
    "import datetime\n",
    "import pickle\n",
    "import matplotlib.pyplot as plt\n",
    "% matplotlib inline\n",
    "\n",
    "import seaborn as sns\n",
    "from scipy import stats\n",
    "from scipy.stats import norm, skew #for some statistics\n",
    "from sklearn.cross_validation import train_test_split"
   ]
  },
  {
   "cell_type": "code",
   "execution_count": 57,
   "metadata": {
    "collapsed": true
   },
   "outputs": [],
   "source": [
    "# read in the json files\n",
    "portfolio = pd.read_json('data/portfolio.json', orient='records', lines=True)\n",
    "profile = pd.read_json('data/profile.json', orient='records', lines=True)\n",
    "transcript = pd.read_json('data/transcript.json', orient='records', lines=True)"
   ]
  },
  {
   "cell_type": "code",
   "execution_count": 58,
   "metadata": {},
   "outputs": [
    {
     "name": "stdout",
     "output_type": "stream",
     "text": [
      "10\n",
      "17000\n",
      "306534\n"
     ]
    }
   ],
   "source": [
    "print(len(portfolio))\n",
    "print(len(profile))\n",
    "print(len(transcript))"
   ]
  },
  {
   "cell_type": "code",
   "execution_count": 59,
   "metadata": {},
   "outputs": [
    {
     "data": {
      "text/plain": [
       "reward        False\n",
       "channels      False\n",
       "difficulty    False\n",
       "duration      False\n",
       "offer_type    False\n",
       "id            False\n",
       "dtype: bool"
      ]
     },
     "execution_count": 59,
     "metadata": {},
     "output_type": "execute_result"
    }
   ],
   "source": [
    "portfolio.isnull().any()"
   ]
  },
  {
   "cell_type": "code",
   "execution_count": 60,
   "metadata": {},
   "outputs": [
    {
     "data": {
      "text/plain": [
       "gender               True\n",
       "age                 False\n",
       "id                  False\n",
       "became_member_on    False\n",
       "income               True\n",
       "dtype: bool"
      ]
     },
     "execution_count": 60,
     "metadata": {},
     "output_type": "execute_result"
    }
   ],
   "source": [
    "profile.isnull().any()"
   ]
  },
  {
   "cell_type": "code",
   "execution_count": 61,
   "metadata": {},
   "outputs": [
    {
     "data": {
      "text/plain": [
       "person    False\n",
       "event     False\n",
       "value     False\n",
       "time      False\n",
       "dtype: bool"
      ]
     },
     "execution_count": 61,
     "metadata": {},
     "output_type": "execute_result"
    }
   ],
   "source": [
    "transcript.isnull().any()"
   ]
  },
  {
   "cell_type": "markdown",
   "metadata": {},
   "source": [
    "### Portfolio"
   ]
  },
  {
   "cell_type": "code",
   "execution_count": 62,
   "metadata": {},
   "outputs": [
    {
     "name": "stdout",
     "output_type": "stream",
     "text": [
      "10\n"
     ]
    },
    {
     "data": {
      "text/html": [
       "<div>\n",
       "<style scoped>\n",
       "    .dataframe tbody tr th:only-of-type {\n",
       "        vertical-align: middle;\n",
       "    }\n",
       "\n",
       "    .dataframe tbody tr th {\n",
       "        vertical-align: top;\n",
       "    }\n",
       "\n",
       "    .dataframe thead th {\n",
       "        text-align: right;\n",
       "    }\n",
       "</style>\n",
       "<table border=\"1\" class=\"dataframe\">\n",
       "  <thead>\n",
       "    <tr style=\"text-align: right;\">\n",
       "      <th></th>\n",
       "      <th>reward</th>\n",
       "      <th>channels</th>\n",
       "      <th>difficulty</th>\n",
       "      <th>duration</th>\n",
       "      <th>offer_type</th>\n",
       "      <th>id</th>\n",
       "    </tr>\n",
       "  </thead>\n",
       "  <tbody>\n",
       "    <tr>\n",
       "      <td>0</td>\n",
       "      <td>10</td>\n",
       "      <td>[email, mobile, social]</td>\n",
       "      <td>10</td>\n",
       "      <td>7</td>\n",
       "      <td>bogo</td>\n",
       "      <td>ae264e3637204a6fb9bb56bc8210ddfd</td>\n",
       "    </tr>\n",
       "    <tr>\n",
       "      <td>1</td>\n",
       "      <td>10</td>\n",
       "      <td>[web, email, mobile, social]</td>\n",
       "      <td>10</td>\n",
       "      <td>5</td>\n",
       "      <td>bogo</td>\n",
       "      <td>4d5c57ea9a6940dd891ad53e9dbe8da0</td>\n",
       "    </tr>\n",
       "    <tr>\n",
       "      <td>2</td>\n",
       "      <td>0</td>\n",
       "      <td>[web, email, mobile]</td>\n",
       "      <td>0</td>\n",
       "      <td>4</td>\n",
       "      <td>informational</td>\n",
       "      <td>3f207df678b143eea3cee63160fa8bed</td>\n",
       "    </tr>\n",
       "    <tr>\n",
       "      <td>3</td>\n",
       "      <td>5</td>\n",
       "      <td>[web, email, mobile]</td>\n",
       "      <td>5</td>\n",
       "      <td>7</td>\n",
       "      <td>bogo</td>\n",
       "      <td>9b98b8c7a33c4b65b9aebfe6a799e6d9</td>\n",
       "    </tr>\n",
       "    <tr>\n",
       "      <td>4</td>\n",
       "      <td>5</td>\n",
       "      <td>[web, email]</td>\n",
       "      <td>20</td>\n",
       "      <td>10</td>\n",
       "      <td>discount</td>\n",
       "      <td>0b1e1539f2cc45b7b9fa7c272da2e1d7</td>\n",
       "    </tr>\n",
       "    <tr>\n",
       "      <td>5</td>\n",
       "      <td>3</td>\n",
       "      <td>[web, email, mobile, social]</td>\n",
       "      <td>7</td>\n",
       "      <td>7</td>\n",
       "      <td>discount</td>\n",
       "      <td>2298d6c36e964ae4a3e7e9706d1fb8c2</td>\n",
       "    </tr>\n",
       "    <tr>\n",
       "      <td>6</td>\n",
       "      <td>2</td>\n",
       "      <td>[web, email, mobile, social]</td>\n",
       "      <td>10</td>\n",
       "      <td>10</td>\n",
       "      <td>discount</td>\n",
       "      <td>fafdcd668e3743c1bb461111dcafc2a4</td>\n",
       "    </tr>\n",
       "    <tr>\n",
       "      <td>7</td>\n",
       "      <td>0</td>\n",
       "      <td>[email, mobile, social]</td>\n",
       "      <td>0</td>\n",
       "      <td>3</td>\n",
       "      <td>informational</td>\n",
       "      <td>5a8bc65990b245e5a138643cd4eb9837</td>\n",
       "    </tr>\n",
       "    <tr>\n",
       "      <td>8</td>\n",
       "      <td>5</td>\n",
       "      <td>[web, email, mobile, social]</td>\n",
       "      <td>5</td>\n",
       "      <td>5</td>\n",
       "      <td>bogo</td>\n",
       "      <td>f19421c1d4aa40978ebb69ca19b0e20d</td>\n",
       "    </tr>\n",
       "    <tr>\n",
       "      <td>9</td>\n",
       "      <td>2</td>\n",
       "      <td>[web, email, mobile]</td>\n",
       "      <td>10</td>\n",
       "      <td>7</td>\n",
       "      <td>discount</td>\n",
       "      <td>2906b810c7d4411798c6938adc9daaa5</td>\n",
       "    </tr>\n",
       "  </tbody>\n",
       "</table>\n",
       "</div>"
      ],
      "text/plain": [
       "   reward                      channels  difficulty  duration     offer_type  \\\n",
       "0      10       [email, mobile, social]          10         7           bogo   \n",
       "1      10  [web, email, mobile, social]          10         5           bogo   \n",
       "2       0          [web, email, mobile]           0         4  informational   \n",
       "3       5          [web, email, mobile]           5         7           bogo   \n",
       "4       5                  [web, email]          20        10       discount   \n",
       "5       3  [web, email, mobile, social]           7         7       discount   \n",
       "6       2  [web, email, mobile, social]          10        10       discount   \n",
       "7       0       [email, mobile, social]           0         3  informational   \n",
       "8       5  [web, email, mobile, social]           5         5           bogo   \n",
       "9       2          [web, email, mobile]          10         7       discount   \n",
       "\n",
       "                                 id  \n",
       "0  ae264e3637204a6fb9bb56bc8210ddfd  \n",
       "1  4d5c57ea9a6940dd891ad53e9dbe8da0  \n",
       "2  3f207df678b143eea3cee63160fa8bed  \n",
       "3  9b98b8c7a33c4b65b9aebfe6a799e6d9  \n",
       "4  0b1e1539f2cc45b7b9fa7c272da2e1d7  \n",
       "5  2298d6c36e964ae4a3e7e9706d1fb8c2  \n",
       "6  fafdcd668e3743c1bb461111dcafc2a4  \n",
       "7  5a8bc65990b245e5a138643cd4eb9837  \n",
       "8  f19421c1d4aa40978ebb69ca19b0e20d  \n",
       "9  2906b810c7d4411798c6938adc9daaa5  "
      ]
     },
     "execution_count": 62,
     "metadata": {},
     "output_type": "execute_result"
    }
   ],
   "source": [
    "print(len(portfolio))\n",
    "portfolio.head(10)"
   ]
  },
  {
   "cell_type": "code",
   "execution_count": 63,
   "metadata": {},
   "outputs": [
    {
     "data": {
      "text/plain": [
       "10    4\n",
       "5     2\n",
       "0     2\n",
       "7     1\n",
       "20    1\n",
       "Name: difficulty, dtype: int64"
      ]
     },
     "execution_count": 63,
     "metadata": {},
     "output_type": "execute_result"
    }
   ],
   "source": [
    "portfolio.difficulty.value_counts()"
   ]
  },
  {
   "cell_type": "code",
   "execution_count": 64,
   "metadata": {},
   "outputs": [
    {
     "data": {
      "text/plain": [
       "7     4\n",
       "10    2\n",
       "5     2\n",
       "4     1\n",
       "3     1\n",
       "Name: duration, dtype: int64"
      ]
     },
     "execution_count": 64,
     "metadata": {},
     "output_type": "execute_result"
    }
   ],
   "source": [
    "portfolio.duration.value_counts()"
   ]
  },
  {
   "cell_type": "code",
   "execution_count": 65,
   "metadata": {},
   "outputs": [
    {
     "data": {
      "text/plain": [
       "bogo             4\n",
       "discount         4\n",
       "informational    2\n",
       "Name: offer_type, dtype: int64"
      ]
     },
     "execution_count": 65,
     "metadata": {},
     "output_type": "execute_result"
    }
   ],
   "source": [
    "portfolio.offer_type.value_counts()"
   ]
  },
  {
   "cell_type": "code",
   "execution_count": 66,
   "metadata": {
    "collapsed": true
   },
   "outputs": [],
   "source": [
    "def clean_portfolio(df):\n",
    "    '''\n",
    "    Input: portfolio dataframe.\n",
    "    \n",
    "    Output: Cleaned portfolio.\n",
    "    '''\n",
    "    portfolio=df.copy()\n",
    "    \n",
    "    #id: rename it to offer_id.\n",
    "    portfolio.rename(columns={'id': 'offer_id'}, inplace=True)\n",
    "   #offer_type: one-hot encoded\n",
    "    offer_type= pd.get_dummies(portfolio['offer_type'])\n",
    "    portfolio.drop('offer_type', axis=1, inplace=True)\n",
    "    portfolio = pd.concat([portfolio, offer_type], axis=1, sort=False)\n",
    "    #channels: one-hot encoded\n",
    "    portfolio['web'] = portfolio['channels'].apply(lambda x: 1 if 'web' in x else 0)\n",
    "    portfolio['email'] = portfolio['channels'].apply(lambda x: 1 if 'email' in x else 0)\n",
    "    portfolio['mobile'] = portfolio['channels'].apply(lambda x: 1 if 'mobile' in x else 0)\n",
    "    portfolio['social'] = portfolio['channels'].apply(lambda x: 1 if 'social' in x else 0)\n",
    "    portfolio.drop('channels', axis=1, inplace=True)\n",
    "    #portfolio['duration'] = portfolio['duration'] * 24  \n",
    "\n",
    "    return portfolio"
   ]
  },
  {
   "cell_type": "code",
   "execution_count": 67,
   "metadata": {},
   "outputs": [
    {
     "data": {
      "text/html": [
       "<div>\n",
       "<style scoped>\n",
       "    .dataframe tbody tr th:only-of-type {\n",
       "        vertical-align: middle;\n",
       "    }\n",
       "\n",
       "    .dataframe tbody tr th {\n",
       "        vertical-align: top;\n",
       "    }\n",
       "\n",
       "    .dataframe thead th {\n",
       "        text-align: right;\n",
       "    }\n",
       "</style>\n",
       "<table border=\"1\" class=\"dataframe\">\n",
       "  <thead>\n",
       "    <tr style=\"text-align: right;\">\n",
       "      <th></th>\n",
       "      <th>reward</th>\n",
       "      <th>difficulty</th>\n",
       "      <th>duration</th>\n",
       "      <th>offer_id</th>\n",
       "      <th>bogo</th>\n",
       "      <th>discount</th>\n",
       "      <th>informational</th>\n",
       "      <th>web</th>\n",
       "      <th>email</th>\n",
       "      <th>mobile</th>\n",
       "      <th>social</th>\n",
       "    </tr>\n",
       "  </thead>\n",
       "  <tbody>\n",
       "    <tr>\n",
       "      <td>0</td>\n",
       "      <td>10</td>\n",
       "      <td>10</td>\n",
       "      <td>7</td>\n",
       "      <td>ae264e3637204a6fb9bb56bc8210ddfd</td>\n",
       "      <td>1</td>\n",
       "      <td>0</td>\n",
       "      <td>0</td>\n",
       "      <td>0</td>\n",
       "      <td>1</td>\n",
       "      <td>1</td>\n",
       "      <td>1</td>\n",
       "    </tr>\n",
       "    <tr>\n",
       "      <td>1</td>\n",
       "      <td>10</td>\n",
       "      <td>10</td>\n",
       "      <td>5</td>\n",
       "      <td>4d5c57ea9a6940dd891ad53e9dbe8da0</td>\n",
       "      <td>1</td>\n",
       "      <td>0</td>\n",
       "      <td>0</td>\n",
       "      <td>1</td>\n",
       "      <td>1</td>\n",
       "      <td>1</td>\n",
       "      <td>1</td>\n",
       "    </tr>\n",
       "    <tr>\n",
       "      <td>2</td>\n",
       "      <td>0</td>\n",
       "      <td>0</td>\n",
       "      <td>4</td>\n",
       "      <td>3f207df678b143eea3cee63160fa8bed</td>\n",
       "      <td>0</td>\n",
       "      <td>0</td>\n",
       "      <td>1</td>\n",
       "      <td>1</td>\n",
       "      <td>1</td>\n",
       "      <td>1</td>\n",
       "      <td>0</td>\n",
       "    </tr>\n",
       "    <tr>\n",
       "      <td>3</td>\n",
       "      <td>5</td>\n",
       "      <td>5</td>\n",
       "      <td>7</td>\n",
       "      <td>9b98b8c7a33c4b65b9aebfe6a799e6d9</td>\n",
       "      <td>1</td>\n",
       "      <td>0</td>\n",
       "      <td>0</td>\n",
       "      <td>1</td>\n",
       "      <td>1</td>\n",
       "      <td>1</td>\n",
       "      <td>0</td>\n",
       "    </tr>\n",
       "    <tr>\n",
       "      <td>4</td>\n",
       "      <td>5</td>\n",
       "      <td>20</td>\n",
       "      <td>10</td>\n",
       "      <td>0b1e1539f2cc45b7b9fa7c272da2e1d7</td>\n",
       "      <td>0</td>\n",
       "      <td>1</td>\n",
       "      <td>0</td>\n",
       "      <td>1</td>\n",
       "      <td>1</td>\n",
       "      <td>0</td>\n",
       "      <td>0</td>\n",
       "    </tr>\n",
       "  </tbody>\n",
       "</table>\n",
       "</div>"
      ],
      "text/plain": [
       "   reward  difficulty  duration                          offer_id  bogo  \\\n",
       "0      10          10         7  ae264e3637204a6fb9bb56bc8210ddfd     1   \n",
       "1      10          10         5  4d5c57ea9a6940dd891ad53e9dbe8da0     1   \n",
       "2       0           0         4  3f207df678b143eea3cee63160fa8bed     0   \n",
       "3       5           5         7  9b98b8c7a33c4b65b9aebfe6a799e6d9     1   \n",
       "4       5          20        10  0b1e1539f2cc45b7b9fa7c272da2e1d7     0   \n",
       "\n",
       "   discount  informational  web  email  mobile  social  \n",
       "0         0              0    0      1       1       1  \n",
       "1         0              0    1      1       1       1  \n",
       "2         0              1    1      1       1       0  \n",
       "3         0              0    1      1       1       0  \n",
       "4         1              0    1      1       0       0  "
      ]
     },
     "execution_count": 67,
     "metadata": {},
     "output_type": "execute_result"
    }
   ],
   "source": [
    "portfolio = clean_portfolio(portfolio)\n",
    "portfolio.head()"
   ]
  },
  {
   "cell_type": "code",
   "execution_count": 68,
   "metadata": {},
   "outputs": [
    {
     "data": {
      "text/plain": [
       "reward           False\n",
       "difficulty       False\n",
       "duration         False\n",
       "offer_id         False\n",
       "bogo             False\n",
       "discount         False\n",
       "informational    False\n",
       "web              False\n",
       "email            False\n",
       "mobile           False\n",
       "social           False\n",
       "dtype: bool"
      ]
     },
     "execution_count": 68,
     "metadata": {},
     "output_type": "execute_result"
    }
   ],
   "source": [
    "portfolio.isnull().any()"
   ]
  },
  {
   "cell_type": "markdown",
   "metadata": {},
   "source": [
    "### Profile"
   ]
  },
  {
   "cell_type": "code",
   "execution_count": 69,
   "metadata": {},
   "outputs": [
    {
     "name": "stdout",
     "output_type": "stream",
     "text": [
      "17000\n"
     ]
    },
    {
     "data": {
      "text/html": [
       "<div>\n",
       "<style scoped>\n",
       "    .dataframe tbody tr th:only-of-type {\n",
       "        vertical-align: middle;\n",
       "    }\n",
       "\n",
       "    .dataframe tbody tr th {\n",
       "        vertical-align: top;\n",
       "    }\n",
       "\n",
       "    .dataframe thead th {\n",
       "        text-align: right;\n",
       "    }\n",
       "</style>\n",
       "<table border=\"1\" class=\"dataframe\">\n",
       "  <thead>\n",
       "    <tr style=\"text-align: right;\">\n",
       "      <th></th>\n",
       "      <th>gender</th>\n",
       "      <th>age</th>\n",
       "      <th>id</th>\n",
       "      <th>became_member_on</th>\n",
       "      <th>income</th>\n",
       "    </tr>\n",
       "  </thead>\n",
       "  <tbody>\n",
       "    <tr>\n",
       "      <td>0</td>\n",
       "      <td>None</td>\n",
       "      <td>118</td>\n",
       "      <td>68be06ca386d4c31939f3a4f0e3dd783</td>\n",
       "      <td>20170212</td>\n",
       "      <td>NaN</td>\n",
       "    </tr>\n",
       "    <tr>\n",
       "      <td>1</td>\n",
       "      <td>F</td>\n",
       "      <td>55</td>\n",
       "      <td>0610b486422d4921ae7d2bf64640c50b</td>\n",
       "      <td>20170715</td>\n",
       "      <td>112000.0</td>\n",
       "    </tr>\n",
       "    <tr>\n",
       "      <td>2</td>\n",
       "      <td>None</td>\n",
       "      <td>118</td>\n",
       "      <td>38fe809add3b4fcf9315a9694bb96ff5</td>\n",
       "      <td>20180712</td>\n",
       "      <td>NaN</td>\n",
       "    </tr>\n",
       "    <tr>\n",
       "      <td>3</td>\n",
       "      <td>F</td>\n",
       "      <td>75</td>\n",
       "      <td>78afa995795e4d85b5d9ceeca43f5fef</td>\n",
       "      <td>20170509</td>\n",
       "      <td>100000.0</td>\n",
       "    </tr>\n",
       "    <tr>\n",
       "      <td>4</td>\n",
       "      <td>None</td>\n",
       "      <td>118</td>\n",
       "      <td>a03223e636434f42ac4c3df47e8bac43</td>\n",
       "      <td>20170804</td>\n",
       "      <td>NaN</td>\n",
       "    </tr>\n",
       "  </tbody>\n",
       "</table>\n",
       "</div>"
      ],
      "text/plain": [
       "  gender  age                                id  became_member_on    income\n",
       "0   None  118  68be06ca386d4c31939f3a4f0e3dd783          20170212       NaN\n",
       "1      F   55  0610b486422d4921ae7d2bf64640c50b          20170715  112000.0\n",
       "2   None  118  38fe809add3b4fcf9315a9694bb96ff5          20180712       NaN\n",
       "3      F   75  78afa995795e4d85b5d9ceeca43f5fef          20170509  100000.0\n",
       "4   None  118  a03223e636434f42ac4c3df47e8bac43          20170804       NaN"
      ]
     },
     "execution_count": 69,
     "metadata": {},
     "output_type": "execute_result"
    }
   ],
   "source": [
    "print(len(profile))\n",
    "profile.head()"
   ]
  },
  {
   "cell_type": "code",
   "execution_count": 70,
   "metadata": {},
   "outputs": [
    {
     "data": {
      "text/plain": [
       "count    17000.000000\n",
       "mean        62.531412\n",
       "std         26.738580\n",
       "min         18.000000\n",
       "25%         45.000000\n",
       "50%         58.000000\n",
       "75%         73.000000\n",
       "max        118.000000\n",
       "Name: age, dtype: float64"
      ]
     },
     "execution_count": 70,
     "metadata": {},
     "output_type": "execute_result"
    }
   ],
   "source": [
    "profile.age.describe()"
   ]
  },
  {
   "cell_type": "code",
   "execution_count": 71,
   "metadata": {},
   "outputs": [
    {
     "data": {
      "text/plain": [
       "M    8484\n",
       "F    6129\n",
       "O     212\n",
       "Name: gender, dtype: int64"
      ]
     },
     "execution_count": 71,
     "metadata": {},
     "output_type": "execute_result"
    }
   ],
   "source": [
    "profile.gender.value_counts()"
   ]
  },
  {
   "cell_type": "code",
   "execution_count": 72,
   "metadata": {
    "collapsed": true
   },
   "outputs": [],
   "source": [
    "def clean_profile(df):\n",
    "    '''\n",
    "    Input: profile dataframe.\n",
    "    \n",
    "    Output: Cleaned profile.\n",
    "    '''\n",
    "    profile = df.copy()\n",
    "    \n",
    "    #Rename id column name to customer_id.\n",
    "    profile.rename(columns={'id': 'customer_id'}, inplace=True)\n",
    "    \n",
    "    #Instead of age = 118, fill it with the mean of the rest ages\n",
    "    profile['age'] = profile['age'].apply(lambda x: np.nan if x == 118 else x) #Replace age value 118 to 0.\n",
    "    \n",
    "    #Change gender column from letters to numeric\n",
    "    profile['gender'] = profile['gender'].apply(lambda x: 0 if x == 'F' else x)\n",
    "    profile['gender'] = profile['gender'].apply(lambda x: 1 if x == 'M' else x)\n",
    "    profile['gender'] = profile['gender'].apply(lambda x: 2 if x == 'O' else x)\n",
    "    \n",
    "    #Change date format\n",
    "    profile.became_member_on = pd.to_datetime(profile.became_member_on, \n",
    "                                          format='%Y%m%d')\n",
    "    #Memebr since how many days\n",
    "    profile['member_days'] = datetime.datetime.today().date() - pd.to_datetime(profile['became_member_on'], format='%Y%m%d').dt.date\n",
    "    profile['member_days'] = profile['member_days'].dt.days\n",
    "    \n",
    "    #Add new column for start year\n",
    "    profile['started_year'] = pd.to_datetime(profile['became_member_on'], format='%Y%m%d').dt.year\n",
    "    #Add new column for stsrt month\n",
    "    profile[\"started_month\"] = pd.to_datetime(profile['became_member_on'], format='%Y%m%d').dt.month\n",
    "    #Delete rows with NaN values\n",
    "    profile.dropna(inplace=True)\n",
    "\n",
    "    return profile"
   ]
  },
  {
   "cell_type": "code",
   "execution_count": 73,
   "metadata": {},
   "outputs": [
    {
     "data": {
      "text/html": [
       "<div>\n",
       "<style scoped>\n",
       "    .dataframe tbody tr th:only-of-type {\n",
       "        vertical-align: middle;\n",
       "    }\n",
       "\n",
       "    .dataframe tbody tr th {\n",
       "        vertical-align: top;\n",
       "    }\n",
       "\n",
       "    .dataframe thead th {\n",
       "        text-align: right;\n",
       "    }\n",
       "</style>\n",
       "<table border=\"1\" class=\"dataframe\">\n",
       "  <thead>\n",
       "    <tr style=\"text-align: right;\">\n",
       "      <th></th>\n",
       "      <th>gender</th>\n",
       "      <th>age</th>\n",
       "      <th>customer_id</th>\n",
       "      <th>became_member_on</th>\n",
       "      <th>income</th>\n",
       "      <th>member_days</th>\n",
       "      <th>started_year</th>\n",
       "      <th>started_month</th>\n",
       "    </tr>\n",
       "  </thead>\n",
       "  <tbody>\n",
       "    <tr>\n",
       "      <td>1</td>\n",
       "      <td>0.0</td>\n",
       "      <td>55.0</td>\n",
       "      <td>0610b486422d4921ae7d2bf64640c50b</td>\n",
       "      <td>2017-07-15</td>\n",
       "      <td>112000.0</td>\n",
       "      <td>822</td>\n",
       "      <td>2017</td>\n",
       "      <td>7</td>\n",
       "    </tr>\n",
       "    <tr>\n",
       "      <td>3</td>\n",
       "      <td>0.0</td>\n",
       "      <td>75.0</td>\n",
       "      <td>78afa995795e4d85b5d9ceeca43f5fef</td>\n",
       "      <td>2017-05-09</td>\n",
       "      <td>100000.0</td>\n",
       "      <td>889</td>\n",
       "      <td>2017</td>\n",
       "      <td>5</td>\n",
       "    </tr>\n",
       "    <tr>\n",
       "      <td>5</td>\n",
       "      <td>1.0</td>\n",
       "      <td>68.0</td>\n",
       "      <td>e2127556f4f64592b11af22de27a7932</td>\n",
       "      <td>2018-04-26</td>\n",
       "      <td>70000.0</td>\n",
       "      <td>537</td>\n",
       "      <td>2018</td>\n",
       "      <td>4</td>\n",
       "    </tr>\n",
       "    <tr>\n",
       "      <td>8</td>\n",
       "      <td>1.0</td>\n",
       "      <td>65.0</td>\n",
       "      <td>389bc3fa690240e798340f5a15918d5c</td>\n",
       "      <td>2018-02-09</td>\n",
       "      <td>53000.0</td>\n",
       "      <td>613</td>\n",
       "      <td>2018</td>\n",
       "      <td>2</td>\n",
       "    </tr>\n",
       "    <tr>\n",
       "      <td>12</td>\n",
       "      <td>1.0</td>\n",
       "      <td>58.0</td>\n",
       "      <td>2eeac8d8feae4a8cad5a6af0499a211d</td>\n",
       "      <td>2017-11-11</td>\n",
       "      <td>51000.0</td>\n",
       "      <td>703</td>\n",
       "      <td>2017</td>\n",
       "      <td>11</td>\n",
       "    </tr>\n",
       "  </tbody>\n",
       "</table>\n",
       "</div>"
      ],
      "text/plain": [
       "    gender   age                       customer_id became_member_on    income  \\\n",
       "1      0.0  55.0  0610b486422d4921ae7d2bf64640c50b       2017-07-15  112000.0   \n",
       "3      0.0  75.0  78afa995795e4d85b5d9ceeca43f5fef       2017-05-09  100000.0   \n",
       "5      1.0  68.0  e2127556f4f64592b11af22de27a7932       2018-04-26   70000.0   \n",
       "8      1.0  65.0  389bc3fa690240e798340f5a15918d5c       2018-02-09   53000.0   \n",
       "12     1.0  58.0  2eeac8d8feae4a8cad5a6af0499a211d       2017-11-11   51000.0   \n",
       "\n",
       "    member_days  started_year  started_month  \n",
       "1           822          2017              7  \n",
       "3           889          2017              5  \n",
       "5           537          2018              4  \n",
       "8           613          2018              2  \n",
       "12          703          2017             11  "
      ]
     },
     "execution_count": 73,
     "metadata": {},
     "output_type": "execute_result"
    }
   ],
   "source": [
    "profile = clean_profile(profile)\n",
    "profile.head()"
   ]
  },
  {
   "cell_type": "code",
   "execution_count": 74,
   "metadata": {},
   "outputs": [
    {
     "data": {
      "text/plain": [
       "14825"
      ]
     },
     "execution_count": 74,
     "metadata": {},
     "output_type": "execute_result"
    }
   ],
   "source": [
    "len(profile)"
   ]
  },
  {
   "cell_type": "code",
   "execution_count": 75,
   "metadata": {},
   "outputs": [
    {
     "data": {
      "text/plain": [
       "gender              False\n",
       "age                 False\n",
       "customer_id         False\n",
       "became_member_on    False\n",
       "income              False\n",
       "member_days         False\n",
       "started_year        False\n",
       "started_month       False\n",
       "dtype: bool"
      ]
     },
     "execution_count": 75,
     "metadata": {},
     "output_type": "execute_result"
    }
   ],
   "source": [
    "profile.isnull().any()"
   ]
  },
  {
   "cell_type": "code",
   "execution_count": 76,
   "metadata": {},
   "outputs": [
    {
     "data": {
      "text/html": [
       "<div>\n",
       "<style scoped>\n",
       "    .dataframe tbody tr th:only-of-type {\n",
       "        vertical-align: middle;\n",
       "    }\n",
       "\n",
       "    .dataframe tbody tr th {\n",
       "        vertical-align: top;\n",
       "    }\n",
       "\n",
       "    .dataframe thead th {\n",
       "        text-align: right;\n",
       "    }\n",
       "</style>\n",
       "<table border=\"1\" class=\"dataframe\">\n",
       "  <thead>\n",
       "    <tr style=\"text-align: right;\">\n",
       "      <th></th>\n",
       "      <th>gender</th>\n",
       "      <th>age</th>\n",
       "      <th>income</th>\n",
       "      <th>member_days</th>\n",
       "      <th>started_year</th>\n",
       "      <th>started_month</th>\n",
       "    </tr>\n",
       "  </thead>\n",
       "  <tbody>\n",
       "    <tr>\n",
       "      <td>count</td>\n",
       "      <td>14825.000000</td>\n",
       "      <td>14825.000000</td>\n",
       "      <td>14825.000000</td>\n",
       "      <td>14825.000000</td>\n",
       "      <td>14825.000000</td>\n",
       "      <td>14825.000000</td>\n",
       "    </tr>\n",
       "    <tr>\n",
       "      <td>mean</td>\n",
       "      <td>0.600877</td>\n",
       "      <td>54.393524</td>\n",
       "      <td>65404.991568</td>\n",
       "      <td>968.478988</td>\n",
       "      <td>2016.620169</td>\n",
       "      <td>6.695582</td>\n",
       "    </tr>\n",
       "    <tr>\n",
       "      <td>std</td>\n",
       "      <td>0.518114</td>\n",
       "      <td>17.383705</td>\n",
       "      <td>21598.299410</td>\n",
       "      <td>419.205158</td>\n",
       "      <td>1.198245</td>\n",
       "      <td>3.488853</td>\n",
       "    </tr>\n",
       "    <tr>\n",
       "      <td>min</td>\n",
       "      <td>0.000000</td>\n",
       "      <td>18.000000</td>\n",
       "      <td>30000.000000</td>\n",
       "      <td>446.000000</td>\n",
       "      <td>2013.000000</td>\n",
       "      <td>1.000000</td>\n",
       "    </tr>\n",
       "    <tr>\n",
       "      <td>25%</td>\n",
       "      <td>0.000000</td>\n",
       "      <td>42.000000</td>\n",
       "      <td>49000.000000</td>\n",
       "      <td>654.000000</td>\n",
       "      <td>2016.000000</td>\n",
       "      <td>4.000000</td>\n",
       "    </tr>\n",
       "    <tr>\n",
       "      <td>50%</td>\n",
       "      <td>1.000000</td>\n",
       "      <td>55.000000</td>\n",
       "      <td>64000.000000</td>\n",
       "      <td>804.000000</td>\n",
       "      <td>2017.000000</td>\n",
       "      <td>7.000000</td>\n",
       "    </tr>\n",
       "    <tr>\n",
       "      <td>75%</td>\n",
       "      <td>1.000000</td>\n",
       "      <td>66.000000</td>\n",
       "      <td>80000.000000</td>\n",
       "      <td>1243.000000</td>\n",
       "      <td>2017.000000</td>\n",
       "      <td>10.000000</td>\n",
       "    </tr>\n",
       "    <tr>\n",
       "      <td>max</td>\n",
       "      <td>2.000000</td>\n",
       "      <td>101.000000</td>\n",
       "      <td>120000.000000</td>\n",
       "      <td>2269.000000</td>\n",
       "      <td>2018.000000</td>\n",
       "      <td>12.000000</td>\n",
       "    </tr>\n",
       "  </tbody>\n",
       "</table>\n",
       "</div>"
      ],
      "text/plain": [
       "             gender           age         income   member_days  started_year  \\\n",
       "count  14825.000000  14825.000000   14825.000000  14825.000000  14825.000000   \n",
       "mean       0.600877     54.393524   65404.991568    968.478988   2016.620169   \n",
       "std        0.518114     17.383705   21598.299410    419.205158      1.198245   \n",
       "min        0.000000     18.000000   30000.000000    446.000000   2013.000000   \n",
       "25%        0.000000     42.000000   49000.000000    654.000000   2016.000000   \n",
       "50%        1.000000     55.000000   64000.000000    804.000000   2017.000000   \n",
       "75%        1.000000     66.000000   80000.000000   1243.000000   2017.000000   \n",
       "max        2.000000    101.000000  120000.000000   2269.000000   2018.000000   \n",
       "\n",
       "       started_month  \n",
       "count   14825.000000  \n",
       "mean        6.695582  \n",
       "std         3.488853  \n",
       "min         1.000000  \n",
       "25%         4.000000  \n",
       "50%         7.000000  \n",
       "75%        10.000000  \n",
       "max        12.000000  "
      ]
     },
     "execution_count": 76,
     "metadata": {},
     "output_type": "execute_result"
    }
   ],
   "source": [
    "profile.describe()"
   ]
  },
  {
   "cell_type": "code",
   "execution_count": 77,
   "metadata": {},
   "outputs": [
    {
     "data": {
      "text/plain": [
       "2017    5599\n",
       "2018    3669\n",
       "2016    3024\n",
       "2015    1597\n",
       "2014     662\n",
       "2013     274\n",
       "Name: started_year, dtype: int64"
      ]
     },
     "execution_count": 77,
     "metadata": {},
     "output_type": "execute_result"
    }
   ],
   "source": [
    "profile.started_year.value_counts()"
   ]
  },
  {
   "cell_type": "code",
   "execution_count": 78,
   "metadata": {},
   "outputs": [
    {
     "data": {
      "image/png": "[encoded data removed]",
      "text/plain": [
       "<matplotlib.figure.Figure at 0x1703b9b5e10>"
      ]
     },
     "metadata": {},
     "output_type": "display_data"
    },
    {
     "data": {
      "image/png": "[encoded data removed]",
      "text/plain": [
       "<matplotlib.figure.Figure at 0x1703b9b5438>"
      ]
     },
     "metadata": {},
     "output_type": "display_data"
    }
   ],
   "source": [
    "ax = profile.hist(column='income', bins=30, grid=True, color='#111ab1', zorder=1, rwidth=0.9)\n",
    "ax = ax[0]\n",
    "for x in ax:\n",
    "    x.set_title(\"Income Histogram\")\n",
    "    x.set_xlabel(\"Income\")\n",
    "ax = profile.hist(column='age', bins=30, grid=True, color='#111ab1', zorder=1, rwidth=0.9)\n",
    "ax = ax[0]\n",
    "for x in ax:\n",
    "    x.set_title(\"Age Histogram\")\n",
    "    x.set_xlabel(\"Age\")"
   ]
  },
  {
   "cell_type": "code",
   "execution_count": 79,
   "metadata": {},
   "outputs": [
    {
     "data": {
      "text/plain": [
       "[Text(0,0.5,'Freq'), Text(0.5,0,'Years')]"
      ]
     },
     "execution_count": 79,
     "metadata": {},
     "output_type": "execute_result"
    },
    {
     "data": {
      "image/png": "[encoded data removed]",
      "text/plain": [
       "<matplotlib.figure.Figure at 0x1703b9bd080>"
      ]
     },
     "metadata": {},
     "output_type": "display_data"
    }
   ],
   "source": [
    "import pylab as pl\n",
    "ax=profile['started_year'].plot.hist(grid=False, color='#111ab1')\n",
    "pl.suptitle(\"Started Year Histogram\")\n",
    "ax.set(xlabel=\"Years\", ylabel=\"Freq\")"
   ]
  },
  {
   "cell_type": "code",
   "execution_count": 80,
   "metadata": {},
   "outputs": [
    {
     "data": {
      "image/png": "[encoded data removed]",
      "text/plain": [
       "<matplotlib.figure.Figure at 0x1703ba59908>"
      ]
     },
     "metadata": {},
     "output_type": "display_data"
    }
   ],
   "source": [
    "counts = profile.gender.value_counts()\n",
    "x = ['M','F','O']\n",
    "data = counts\n",
    "plt.bar(x,height = data, color='#111ab1');\n",
    "xlocs, xlabs = plt.xticks()\n",
    "plt.xlabel('Gender');\n",
    "plt.ylabel('Count');\n",
    "plt.title('Gender');"
   ]
  },
  {
   "cell_type": "markdown",
   "metadata": {},
   "source": [
    "### Transcript"
   ]
  },
  {
   "cell_type": "code",
   "execution_count": 81,
   "metadata": {},
   "outputs": [
    {
     "name": "stdout",
     "output_type": "stream",
     "text": [
      "306534\n"
     ]
    },
    {
     "data": {
      "text/html": [
       "<div>\n",
       "<style scoped>\n",
       "    .dataframe tbody tr th:only-of-type {\n",
       "        vertical-align: middle;\n",
       "    }\n",
       "\n",
       "    .dataframe tbody tr th {\n",
       "        vertical-align: top;\n",
       "    }\n",
       "\n",
       "    .dataframe thead th {\n",
       "        text-align: right;\n",
       "    }\n",
       "</style>\n",
       "<table border=\"1\" class=\"dataframe\">\n",
       "  <thead>\n",
       "    <tr style=\"text-align: right;\">\n",
       "      <th></th>\n",
       "      <th>person</th>\n",
       "      <th>event</th>\n",
       "      <th>value</th>\n",
       "      <th>time</th>\n",
       "    </tr>\n",
       "  </thead>\n",
       "  <tbody>\n",
       "    <tr>\n",
       "      <td>0</td>\n",
       "      <td>78afa995795e4d85b5d9ceeca43f5fef</td>\n",
       "      <td>offer received</td>\n",
       "      <td>{'offer id': '9b98b8c7a33c4b65b9aebfe6a799e6d9'}</td>\n",
       "      <td>0</td>\n",
       "    </tr>\n",
       "    <tr>\n",
       "      <td>1</td>\n",
       "      <td>a03223e636434f42ac4c3df47e8bac43</td>\n",
       "      <td>offer received</td>\n",
       "      <td>{'offer id': '0b1e1539f2cc45b7b9fa7c272da2e1d7'}</td>\n",
       "      <td>0</td>\n",
       "    </tr>\n",
       "    <tr>\n",
       "      <td>2</td>\n",
       "      <td>e2127556f4f64592b11af22de27a7932</td>\n",
       "      <td>offer received</td>\n",
       "      <td>{'offer id': '2906b810c7d4411798c6938adc9daaa5'}</td>\n",
       "      <td>0</td>\n",
       "    </tr>\n",
       "    <tr>\n",
       "      <td>3</td>\n",
       "      <td>8ec6ce2a7e7949b1bf142def7d0e0586</td>\n",
       "      <td>offer received</td>\n",
       "      <td>{'offer id': 'fafdcd668e3743c1bb461111dcafc2a4'}</td>\n",
       "      <td>0</td>\n",
       "    </tr>\n",
       "    <tr>\n",
       "      <td>4</td>\n",
       "      <td>68617ca6246f4fbc85e91a2a49552598</td>\n",
       "      <td>offer received</td>\n",
       "      <td>{'offer id': '4d5c57ea9a6940dd891ad53e9dbe8da0'}</td>\n",
       "      <td>0</td>\n",
       "    </tr>\n",
       "  </tbody>\n",
       "</table>\n",
       "</div>"
      ],
      "text/plain": [
       "                             person           event  \\\n",
       "0  78afa995795e4d85b5d9ceeca43f5fef  offer received   \n",
       "1  a03223e636434f42ac4c3df47e8bac43  offer received   \n",
       "2  e2127556f4f64592b11af22de27a7932  offer received   \n",
       "3  8ec6ce2a7e7949b1bf142def7d0e0586  offer received   \n",
       "4  68617ca6246f4fbc85e91a2a49552598  offer received   \n",
       "\n",
       "                                              value  time  \n",
       "0  {'offer id': '9b98b8c7a33c4b65b9aebfe6a799e6d9'}     0  \n",
       "1  {'offer id': '0b1e1539f2cc45b7b9fa7c272da2e1d7'}     0  \n",
       "2  {'offer id': '2906b810c7d4411798c6938adc9daaa5'}     0  \n",
       "3  {'offer id': 'fafdcd668e3743c1bb461111dcafc2a4'}     0  \n",
       "4  {'offer id': '4d5c57ea9a6940dd891ad53e9dbe8da0'}     0  "
      ]
     },
     "execution_count": 81,
     "metadata": {},
     "output_type": "execute_result"
    }
   ],
   "source": [
    "print(len(transcript))\n",
    "transcript.head()"
   ]
  },
  {
   "cell_type": "code",
   "execution_count": 82,
   "metadata": {},
   "outputs": [
    {
     "data": {
      "text/plain": [
       "transaction        138953\n",
       "offer received      76277\n",
       "offer viewed        57725\n",
       "offer completed     33579\n",
       "Name: event, dtype: int64"
      ]
     },
     "execution_count": 82,
     "metadata": {},
     "output_type": "execute_result"
    }
   ],
   "source": [
    "transcript.event.value_counts()"
   ]
  },
  {
   "cell_type": "code",
   "execution_count": 83,
   "metadata": {},
   "outputs": [
    {
     "name": "stderr",
     "output_type": "stream",
     "text": [
      "C:\\Users\\Ayah\\Anaconda3\\lib\\site-packages\\seaborn\\categorical.py:1460: FutureWarning: remove_na is deprecated and is a private function. Do not use.\n",
      "  stat_data = remove_na(group_data)\n"
     ]
    },
    {
     "data": {
      "image/png": "[encoded data removed]",
      "text/plain": [
       "<matplotlib.figure.Figure at 0x1703ba3d400>"
      ]
     },
     "metadata": {},
     "output_type": "display_data"
    }
   ],
   "source": [
    "# Create a bar plot \n",
    "sns.countplot(x=transcript['event'])\n",
    "plt.title('Events')\n",
    "plt.xlabel('event');"
   ]
  },
  {
   "cell_type": "code",
   "execution_count": 84,
   "metadata": {
    "collapsed": true
   },
   "outputs": [],
   "source": [
    "def clean_transcript(df):\n",
    "    \n",
    "    '''\n",
    "    Input: transcript dataframe.\n",
    "    \n",
    "    Output: Cleaned transcript.\n",
    "    '''\n",
    "    transcript = df.copy()\n",
    "    \n",
    "    #Rename person column name to customer_id.    \n",
    "    transcript.rename(columns={'person': 'customer_id'}, inplace=True)\n",
    "           \n",
    "    # change amount column type to float\n",
    "    transcript.amount.astype('float')\n",
    "\n",
    "    # drop value column\n",
    "    transcript.drop(columns=['value'], inplace=True)\n",
    "   \n",
    "    #Drop customers who don't have profiles data\n",
    "    matual_ids = transcript['customer_id'].isin(profile['customer_id'])\n",
    "    transcript = transcript[matual_ids]\n",
    "    \n",
    "    #Create days column from the time column\n",
    "    transcript['time'] = transcript['time'] / 24.0\n",
    "    \n",
    "    transcript.drop_duplicates(inplace=True)\n",
    "    transcript.reset_index(drop=True, inplace=True)\n",
    "    \n",
    "    #Extract transactions from transcript data\n",
    "    transactions = transcript[transcript.event=='transaction'].copy()\n",
    "    transactions.drop(columns=['offer_id', 'event'], inplace=True)\n",
    "    \n",
    "    #Extract offers from transcript data\n",
    "    offers = transcript[transcript.event!='transaction'].copy()\n",
    "    \n",
    "    # One hot encoding for offers\n",
    "    offers['received'] = offers['event'].apply(lambda x: 1 if x == 'offer received'  else 0)\n",
    "    offers['viewed'] = offers['event'].apply(lambda x: 1 if x == 'offer viewed' else 0)\n",
    "    offers['completed'] = offers['event'].apply(lambda x: 1 if x == 'offer completed' else 0)\n",
    "    offers.drop(columns=['amount', 'event'], inplace=True)\n",
    "    \n",
    "    return transcript,transactions,offers"
   ]
  },
  {
   "cell_type": "code",
   "execution_count": 85,
   "metadata": {
    "collapsed": true
   },
   "outputs": [],
   "source": [
    "def create_offer(value):\n",
    "    if list(value.keys())[0] in ['offer id', 'offer_id']:\n",
    "        return list(value.values())[0]\n",
    "def create_amount(value):\n",
    "    if list(value.keys())[0] in ['amount']:\n",
    "        return list(value.values())[0]\n"
   ]
  },
  {
   "cell_type": "code",
   "execution_count": 86,
   "metadata": {
    "collapsed": true
   },
   "outputs": [],
   "source": [
    "transcript['offer_id'] = transcript.value.apply(create_offer)\n",
    "transcript['amount'] = transcript.value.apply(create_amount)\n",
    "\n",
    "transcript, transactions,offers =clean_transcript(transcript)"
   ]
  },
  {
   "cell_type": "code",
   "execution_count": 87,
   "metadata": {},
   "outputs": [
    {
     "data": {
      "text/html": [
       "<div>\n",
       "<style scoped>\n",
       "    .dataframe tbody tr th:only-of-type {\n",
       "        vertical-align: middle;\n",
       "    }\n",
       "\n",
       "    .dataframe tbody tr th {\n",
       "        vertical-align: top;\n",
       "    }\n",
       "\n",
       "    .dataframe thead th {\n",
       "        text-align: right;\n",
       "    }\n",
       "</style>\n",
       "<table border=\"1\" class=\"dataframe\">\n",
       "  <thead>\n",
       "    <tr style=\"text-align: right;\">\n",
       "      <th></th>\n",
       "      <th>customer_id</th>\n",
       "      <th>event</th>\n",
       "      <th>time</th>\n",
       "      <th>offer_id</th>\n",
       "      <th>amount</th>\n",
       "    </tr>\n",
       "  </thead>\n",
       "  <tbody>\n",
       "    <tr>\n",
       "      <td>0</td>\n",
       "      <td>78afa995795e4d85b5d9ceeca43f5fef</td>\n",
       "      <td>offer received</td>\n",
       "      <td>0.0</td>\n",
       "      <td>9b98b8c7a33c4b65b9aebfe6a799e6d9</td>\n",
       "      <td>NaN</td>\n",
       "    </tr>\n",
       "    <tr>\n",
       "      <td>1</td>\n",
       "      <td>e2127556f4f64592b11af22de27a7932</td>\n",
       "      <td>offer received</td>\n",
       "      <td>0.0</td>\n",
       "      <td>2906b810c7d4411798c6938adc9daaa5</td>\n",
       "      <td>NaN</td>\n",
       "    </tr>\n",
       "    <tr>\n",
       "      <td>2</td>\n",
       "      <td>389bc3fa690240e798340f5a15918d5c</td>\n",
       "      <td>offer received</td>\n",
       "      <td>0.0</td>\n",
       "      <td>f19421c1d4aa40978ebb69ca19b0e20d</td>\n",
       "      <td>NaN</td>\n",
       "    </tr>\n",
       "    <tr>\n",
       "      <td>3</td>\n",
       "      <td>2eeac8d8feae4a8cad5a6af0499a211d</td>\n",
       "      <td>offer received</td>\n",
       "      <td>0.0</td>\n",
       "      <td>3f207df678b143eea3cee63160fa8bed</td>\n",
       "      <td>NaN</td>\n",
       "    </tr>\n",
       "    <tr>\n",
       "      <td>4</td>\n",
       "      <td>aa4862eba776480b8bb9c68455b8c2e1</td>\n",
       "      <td>offer received</td>\n",
       "      <td>0.0</td>\n",
       "      <td>0b1e1539f2cc45b7b9fa7c272da2e1d7</td>\n",
       "      <td>NaN</td>\n",
       "    </tr>\n",
       "  </tbody>\n",
       "</table>\n",
       "</div>"
      ],
      "text/plain": [
       "                        customer_id           event  time  \\\n",
       "0  78afa995795e4d85b5d9ceeca43f5fef  offer received   0.0   \n",
       "1  e2127556f4f64592b11af22de27a7932  offer received   0.0   \n",
       "2  389bc3fa690240e798340f5a15918d5c  offer received   0.0   \n",
       "3  2eeac8d8feae4a8cad5a6af0499a211d  offer received   0.0   \n",
       "4  aa4862eba776480b8bb9c68455b8c2e1  offer received   0.0   \n",
       "\n",
       "                           offer_id  amount  \n",
       "0  9b98b8c7a33c4b65b9aebfe6a799e6d9     NaN  \n",
       "1  2906b810c7d4411798c6938adc9daaa5     NaN  \n",
       "2  f19421c1d4aa40978ebb69ca19b0e20d     NaN  \n",
       "3  3f207df678b143eea3cee63160fa8bed     NaN  \n",
       "4  0b1e1539f2cc45b7b9fa7c272da2e1d7     NaN  "
      ]
     },
     "execution_count": 87,
     "metadata": {},
     "output_type": "execute_result"
    }
   ],
   "source": [
    "transcript.head()"
   ]
  },
  {
   "cell_type": "code",
   "execution_count": 88,
   "metadata": {},
   "outputs": [
    {
     "data": {
      "text/html": [
       "<div>\n",
       "<style scoped>\n",
       "    .dataframe tbody tr th:only-of-type {\n",
       "        vertical-align: middle;\n",
       "    }\n",
       "\n",
       "    .dataframe tbody tr th {\n",
       "        vertical-align: top;\n",
       "    }\n",
       "\n",
       "    .dataframe thead th {\n",
       "        text-align: right;\n",
       "    }\n",
       "</style>\n",
       "<table border=\"1\" class=\"dataframe\">\n",
       "  <thead>\n",
       "    <tr style=\"text-align: right;\">\n",
       "      <th></th>\n",
       "      <th>customer_id</th>\n",
       "      <th>time</th>\n",
       "      <th>amount</th>\n",
       "    </tr>\n",
       "  </thead>\n",
       "  <tbody>\n",
       "    <tr>\n",
       "      <td>11027</td>\n",
       "      <td>02c083884c7d45b39cc68e1314fec56c</td>\n",
       "      <td>0.0</td>\n",
       "      <td>0.83</td>\n",
       "    </tr>\n",
       "    <tr>\n",
       "      <td>11030</td>\n",
       "      <td>9fa9ae8f57894cc9a3b8a9bbe0fc1b2f</td>\n",
       "      <td>0.0</td>\n",
       "      <td>34.56</td>\n",
       "    </tr>\n",
       "    <tr>\n",
       "      <td>11032</td>\n",
       "      <td>54890f68699049c2a04d415abc25e717</td>\n",
       "      <td>0.0</td>\n",
       "      <td>13.23</td>\n",
       "    </tr>\n",
       "    <tr>\n",
       "      <td>11040</td>\n",
       "      <td>b2f1cd155b864803ad8334cdf13c4bd2</td>\n",
       "      <td>0.0</td>\n",
       "      <td>19.51</td>\n",
       "    </tr>\n",
       "    <tr>\n",
       "      <td>11041</td>\n",
       "      <td>fe97aa22dd3e48c8b143116a8403dd52</td>\n",
       "      <td>0.0</td>\n",
       "      <td>18.97</td>\n",
       "    </tr>\n",
       "  </tbody>\n",
       "</table>\n",
       "</div>"
      ],
      "text/plain": [
       "                            customer_id  time  amount\n",
       "11027  02c083884c7d45b39cc68e1314fec56c   0.0    0.83\n",
       "11030  9fa9ae8f57894cc9a3b8a9bbe0fc1b2f   0.0   34.56\n",
       "11032  54890f68699049c2a04d415abc25e717   0.0   13.23\n",
       "11040  b2f1cd155b864803ad8334cdf13c4bd2   0.0   19.51\n",
       "11041  fe97aa22dd3e48c8b143116a8403dd52   0.0   18.97"
      ]
     },
     "execution_count": 88,
     "metadata": {},
     "output_type": "execute_result"
    }
   ],
   "source": [
    "transactions.head()"
   ]
  },
  {
   "cell_type": "code",
   "execution_count": 89,
   "metadata": {},
   "outputs": [
    {
     "data": {
      "text/html": [
       "<div>\n",
       "<style scoped>\n",
       "    .dataframe tbody tr th:only-of-type {\n",
       "        vertical-align: middle;\n",
       "    }\n",
       "\n",
       "    .dataframe tbody tr th {\n",
       "        vertical-align: top;\n",
       "    }\n",
       "\n",
       "    .dataframe thead th {\n",
       "        text-align: right;\n",
       "    }\n",
       "</style>\n",
       "<table border=\"1\" class=\"dataframe\">\n",
       "  <thead>\n",
       "    <tr style=\"text-align: right;\">\n",
       "      <th></th>\n",
       "      <th>customer_id</th>\n",
       "      <th>time</th>\n",
       "      <th>offer_id</th>\n",
       "      <th>received</th>\n",
       "      <th>viewed</th>\n",
       "      <th>completed</th>\n",
       "    </tr>\n",
       "  </thead>\n",
       "  <tbody>\n",
       "    <tr>\n",
       "      <td>0</td>\n",
       "      <td>78afa995795e4d85b5d9ceeca43f5fef</td>\n",
       "      <td>0.0</td>\n",
       "      <td>9b98b8c7a33c4b65b9aebfe6a799e6d9</td>\n",
       "      <td>1</td>\n",
       "      <td>0</td>\n",
       "      <td>0</td>\n",
       "    </tr>\n",
       "    <tr>\n",
       "      <td>1</td>\n",
       "      <td>e2127556f4f64592b11af22de27a7932</td>\n",
       "      <td>0.0</td>\n",
       "      <td>2906b810c7d4411798c6938adc9daaa5</td>\n",
       "      <td>1</td>\n",
       "      <td>0</td>\n",
       "      <td>0</td>\n",
       "    </tr>\n",
       "    <tr>\n",
       "      <td>2</td>\n",
       "      <td>389bc3fa690240e798340f5a15918d5c</td>\n",
       "      <td>0.0</td>\n",
       "      <td>f19421c1d4aa40978ebb69ca19b0e20d</td>\n",
       "      <td>1</td>\n",
       "      <td>0</td>\n",
       "      <td>0</td>\n",
       "    </tr>\n",
       "    <tr>\n",
       "      <td>3</td>\n",
       "      <td>2eeac8d8feae4a8cad5a6af0499a211d</td>\n",
       "      <td>0.0</td>\n",
       "      <td>3f207df678b143eea3cee63160fa8bed</td>\n",
       "      <td>1</td>\n",
       "      <td>0</td>\n",
       "      <td>0</td>\n",
       "    </tr>\n",
       "    <tr>\n",
       "      <td>4</td>\n",
       "      <td>aa4862eba776480b8bb9c68455b8c2e1</td>\n",
       "      <td>0.0</td>\n",
       "      <td>0b1e1539f2cc45b7b9fa7c272da2e1d7</td>\n",
       "      <td>1</td>\n",
       "      <td>0</td>\n",
       "      <td>0</td>\n",
       "    </tr>\n",
       "  </tbody>\n",
       "</table>\n",
       "</div>"
      ],
      "text/plain": [
       "                        customer_id  time                          offer_id  \\\n",
       "0  78afa995795e4d85b5d9ceeca43f5fef   0.0  9b98b8c7a33c4b65b9aebfe6a799e6d9   \n",
       "1  e2127556f4f64592b11af22de27a7932   0.0  2906b810c7d4411798c6938adc9daaa5   \n",
       "2  389bc3fa690240e798340f5a15918d5c   0.0  f19421c1d4aa40978ebb69ca19b0e20d   \n",
       "3  2eeac8d8feae4a8cad5a6af0499a211d   0.0  3f207df678b143eea3cee63160fa8bed   \n",
       "4  aa4862eba776480b8bb9c68455b8c2e1   0.0  0b1e1539f2cc45b7b9fa7c272da2e1d7   \n",
       "\n",
       "   received  viewed  completed  \n",
       "0         1       0          0  \n",
       "1         1       0          0  \n",
       "2         1       0          0  \n",
       "3         1       0          0  \n",
       "4         1       0          0  "
      ]
     },
     "execution_count": 89,
     "metadata": {},
     "output_type": "execute_result"
    }
   ],
   "source": [
    "offers.head()"
   ]
  },
  {
   "cell_type": "code",
   "execution_count": 90,
   "metadata": {},
   "outputs": [
    {
     "data": {
      "text/plain": [
       "count    123957.000000\n",
       "mean         13.996325\n",
       "std          31.749420\n",
       "min           0.050000\n",
       "25%           3.660000\n",
       "50%          10.800000\n",
       "75%          19.130000\n",
       "max        1062.280000\n",
       "Name: amount, dtype: float64"
      ]
     },
     "execution_count": 90,
     "metadata": {},
     "output_type": "execute_result"
    }
   ],
   "source": [
    "transcript.amount.describe()"
   ]
  },
  {
   "cell_type": "code",
   "execution_count": 91,
   "metadata": {},
   "outputs": [
    {
     "data": {
      "text/plain": [
       "transaction        123957\n",
       "offer received      66501\n",
       "offer viewed        49860\n",
       "offer completed     32070\n",
       "Name: event, dtype: int64"
      ]
     },
     "execution_count": 91,
     "metadata": {},
     "output_type": "execute_result"
    }
   ],
   "source": [
    "transcript.event.value_counts()"
   ]
  },
  {
   "cell_type": "code",
   "execution_count": 92,
   "metadata": {},
   "outputs": [
    {
     "name": "stdout",
     "output_type": "stream",
     "text": [
      "<class 'pandas.core.frame.DataFrame'>\n",
      "Int64Index: 14825 entries, 1 to 16999\n",
      "Data columns (total 8 columns):\n",
      "gender              14825 non-null float64\n",
      "age                 14825 non-null float64\n",
      "customer_id         14825 non-null object\n",
      "became_member_on    14825 non-null datetime64[ns]\n",
      "income              14825 non-null float64\n",
      "member_days         14825 non-null int64\n",
      "started_year        14825 non-null int64\n",
      "started_month       14825 non-null int64\n",
      "dtypes: datetime64[ns](1), float64(3), int64(3), object(1)\n",
      "memory usage: 1.0+ MB\n"
     ]
    }
   ],
   "source": [
    "profile.info()"
   ]
  },
  {
   "cell_type": "code",
   "execution_count": 93,
   "metadata": {},
   "outputs": [
    {
     "name": "stdout",
     "output_type": "stream",
     "text": [
      "<class 'pandas.core.frame.DataFrame'>\n",
      "RangeIndex: 10 entries, 0 to 9\n",
      "Data columns (total 11 columns):\n",
      "reward           10 non-null int64\n",
      "difficulty       10 non-null int64\n",
      "duration         10 non-null int64\n",
      "offer_id         10 non-null object\n",
      "bogo             10 non-null uint8\n",
      "discount         10 non-null uint8\n",
      "informational    10 non-null uint8\n",
      "web              10 non-null int64\n",
      "email            10 non-null int64\n",
      "mobile           10 non-null int64\n",
      "social           10 non-null int64\n",
      "dtypes: int64(7), object(1), uint8(3)\n",
      "memory usage: 798.0+ bytes\n"
     ]
    }
   ],
   "source": [
    "portfolio.info()"
   ]
  },
  {
   "cell_type": "code",
   "execution_count": 94,
   "metadata": {},
   "outputs": [
    {
     "name": "stdout",
     "output_type": "stream",
     "text": [
      "<class 'pandas.core.frame.DataFrame'>\n",
      "Int64Index: 148431 entries, 0 to 272383\n",
      "Data columns (total 6 columns):\n",
      "customer_id    148431 non-null object\n",
      "time           148431 non-null float64\n",
      "offer_id       148431 non-null object\n",
      "received       148431 non-null int64\n",
      "viewed         148431 non-null int64\n",
      "completed      148431 non-null int64\n",
      "dtypes: float64(1), int64(3), object(2)\n",
      "memory usage: 7.9+ MB\n"
     ]
    }
   ],
   "source": [
    "offers.info()"
   ]
  },
  {
   "cell_type": "code",
   "execution_count": 95,
   "metadata": {},
   "outputs": [
    {
     "name": "stdout",
     "output_type": "stream",
     "text": [
      "<class 'pandas.core.frame.DataFrame'>\n",
      "Int64Index: 123957 entries, 11027 to 272387\n",
      "Data columns (total 3 columns):\n",
      "customer_id    123957 non-null object\n",
      "time           123957 non-null float64\n",
      "amount         123957 non-null float64\n",
      "dtypes: float64(2), object(1)\n",
      "memory usage: 3.8+ MB\n"
     ]
    }
   ],
   "source": [
    "transactions.info()"
   ]
  },
  {
   "cell_type": "code",
   "execution_count": 96,
   "metadata": {},
   "outputs": [
    {
     "name": "stdout",
     "output_type": "stream",
     "text": [
      "<class 'pandas.core.frame.DataFrame'>\n",
      "RangeIndex: 272388 entries, 0 to 272387\n",
      "Data columns (total 5 columns):\n",
      "customer_id    272388 non-null object\n",
      "event          272388 non-null object\n",
      "time           272388 non-null float64\n",
      "offer_id       148431 non-null object\n",
      "amount         123957 non-null float64\n",
      "dtypes: float64(2), object(3)\n",
      "memory usage: 10.4+ MB\n"
     ]
    }
   ],
   "source": [
    "transcript.info()"
   ]
  },
  {
   "cell_type": "code",
   "execution_count": 98,
   "metadata": {
    "collapsed": true
   },
   "outputs": [],
   "source": [
    "#Joine profile, portfolio, offers and transaction data togather\n",
    "def combine_data(profile, portfolio, offers, transactions):\n",
    "    data = []\n",
    "    customer_ids = offers['customer_id'].unique()\n",
    "    \n",
    "    # loop through offers\n",
    "    for i in range(len(customer_ids)):\n",
    "        # get customer id\n",
    "        customer_id = customer_ids[i]\n",
    "        \n",
    "        # get customer profile\n",
    "        customer = profile[profile['customer_id'] == customer_id]\n",
    "        \n",
    "        # get all offers for the customer\n",
    "        customer_offers = offers[offers['customer_id'] == customer_id]\n",
    "        \n",
    "        # get all transaction for the customer\n",
    "        customer_transactions = transactions[transactions['customer_id'] == customer_id]\n",
    "        \n",
    "        # get the received, completed and viewed offers for the customer\n",
    "        received_offers = customer_offers[customer_offers['received'] == 1]\n",
    "        completed_offers = customer_offers[customer_offers['completed'] == 1]\n",
    "        viewed_offers = customer_offers[customer_offers['viewed'] == 1]\n",
    "        rows = []\n",
    "        \n",
    "        # loop through received offers\n",
    "        for j in range(received_offers.shape[0]):\n",
    "            \n",
    "            # get offer id\n",
    "            offer_id = received_offers.iloc[j]['offer_id']\n",
    "            \n",
    "            # get offer from portfolio\n",
    "            offer_data = portfolio.loc[portfolio['offer_id'] == offer_id]\n",
    "            \n",
    "            # get offer duration\n",
    "            duration_days = offer_data['duration'].values[0]\n",
    "            \n",
    "            # calculate offer's end time\n",
    "            start_time = received_offers.iloc[j]['time']\n",
    "            end_time = start_time + duration_days\n",
    "        \n",
    "            # find out offers completed before end time\n",
    "            offer_completed_time =\\\n",
    "            np.logical_and(completed_offers['time'] >= start_time, completed_offers['time'] <= end_time)\n",
    "            \n",
    "            # find out viewed within end date\n",
    "            offer_viewed_time = \\\n",
    "            np.logical_and(viewed_offers['time'] >= start_time, viewed_offers['time'] <=end_time)\n",
    "\n",
    "            # successful offers are offers that viewed and completed before end time only\n",
    "            successful_offer = offer_completed_time.sum() > 0 and offer_viewed_time.sum() > 0\n",
    "            \n",
    "            # extract transactions occured within time\n",
    "            transaction_time = \\\n",
    "            np.logical_and(customer_transactions['time'] >= start_time, customer_transactions['time'] <= end_time)\n",
    "        \n",
    "            customer_transactions = customer_transactions[transaction_time]\n",
    "            \n",
    "            # total amount spent on an offer by the customer \n",
    "            total_amount = customer_transactions['amount'].sum()\n",
    "            \n",
    "            row = {\n",
    "                'offer_id': offer_id,\n",
    "                'customer_id': customer_id,\n",
    "                'time': start_time,\n",
    "                'total_amount': total_amount,\n",
    "                'successful_offer': int(successful_offer),\n",
    "            }\n",
    "                \n",
    "            row.update(offer_data.iloc[0,0:].to_dict())\n",
    "\n",
    "            row.update(customer.iloc[0,:].to_dict())\n",
    "\n",
    "            rows.append(row)\n",
    "        \n",
    "        data.extend(rows)\n",
    "    \n",
    "    data = pd.DataFrame(data)\n",
    "    return data"
   ]
  },
  {
   "cell_type": "code",
   "execution_count": null,
   "metadata": {},
   "outputs": [],
   "source": [
    "data = combine_data(profile, portfolio, offers, transactions)"
   ]
  },
  {
   "cell_type": "code",
   "execution_count": null,
   "metadata": {
    "collapsed": true
   },
   "outputs": [],
   "source": [
    "#data.to_csv('My_Startbucks_data_fina1.csv', index=False)"
   ]
  },
  {
   "cell_type": "code",
   "execution_count": 102,
   "metadata": {},
   "outputs": [
    {
     "data": {
      "text/plain": [
       "0    35136\n",
       "1    31365\n",
       "Name: successful_offer, dtype: int64"
      ]
     },
     "execution_count": 102,
     "metadata": {},
     "output_type": "execute_result"
    }
   ],
   "source": [
    "data.successful_offer.value_counts()"
   ]
  },
  {
   "cell_type": "code",
   "execution_count": 138,
   "metadata": {},
   "outputs": [
    {
     "name": "stderr",
     "output_type": "stream",
     "text": [
      "C:\\Users\\Ayah\\Anaconda3\\lib\\site-packages\\seaborn\\categorical.py:1460: FutureWarning: remove_na is deprecated and is a private function. Do not use.\n",
      "  stat_data = remove_na(group_data)\n"
     ]
    },
    {
     "data": {
      "image/png": "[encoded data removed]",
      "text/plain": [
       "<matplotlib.figure.Figure at 0x1703bbb3438>"
      ]
     },
     "metadata": {},
     "output_type": "display_data"
    }
   ],
   "source": [
    "successful_offers_count = data.groupby('successful_offer').sum().reset_index()\n",
    "# Create a bar plot \n",
    "sns.countplot(x=data['successful_offer'])\n",
    "plt.title('Offers')\n",
    "plt.xlabel('Successful Offers');\n",
    "xlabels = ['0', '1']\n"
   ]
  },
  {
   "cell_type": "code",
   "execution_count": 104,
   "metadata": {},
   "outputs": [
    {
     "name": "stderr",
     "output_type": "stream",
     "text": [
      "C:\\Users\\Ayah\\Anaconda3\\lib\\site-packages\\seaborn\\categorical.py:1460: FutureWarning: remove_na is deprecated and is a private function. Do not use.\n",
      "  stat_data = remove_na(group_data)\n"
     ]
    },
    {
     "data": {
      "text/plain": [
       "([], <a list of 0 Text xticklabel objects>)"
      ]
     },
     "execution_count": 104,
     "metadata": {},
     "output_type": "execute_result"
    },
    {
     "data": {
      "image/png": "[encoded data removed]",
      "text/plain": [
       "<matplotlib.figure.Figure at 0x1703bad1978>"
      ]
     },
     "metadata": {},
     "output_type": "display_data"
    }
   ],
   "source": [
    "successful_offers_count = data[['offer_id', 'successful_offer']].groupby('offer_id').sum().reset_index()\n",
    "# Create a bar plot \n",
    "sns.countplot(x=data['offer_id'])\n",
    "plt.title('successful_offer')\n",
    "plt.xlabel('Offers');\n",
    "plt.xticks([])"
   ]
  },
  {
   "cell_type": "code",
   "execution_count": 106,
   "metadata": {},
   "outputs": [
    {
     "data": {
      "text/html": [
       "<div>\n",
       "<style scoped>\n",
       "    .dataframe tbody tr th:only-of-type {\n",
       "        vertical-align: middle;\n",
       "    }\n",
       "\n",
       "    .dataframe tbody tr th {\n",
       "        vertical-align: top;\n",
       "    }\n",
       "\n",
       "    .dataframe thead th {\n",
       "        text-align: right;\n",
       "    }\n",
       "</style>\n",
       "<table border=\"1\" class=\"dataframe\">\n",
       "  <thead>\n",
       "    <tr style=\"text-align: right;\">\n",
       "      <th></th>\n",
       "      <th>offer_id</th>\n",
       "      <th>customer_id</th>\n",
       "      <th>time</th>\n",
       "      <th>total_amount</th>\n",
       "      <th>successful_offer</th>\n",
       "      <th>reward</th>\n",
       "      <th>difficulty</th>\n",
       "      <th>duration</th>\n",
       "      <th>bogo</th>\n",
       "      <th>discount</th>\n",
       "      <th>...</th>\n",
       "      <th>email</th>\n",
       "      <th>mobile</th>\n",
       "      <th>social</th>\n",
       "      <th>gender</th>\n",
       "      <th>age</th>\n",
       "      <th>became_member_on</th>\n",
       "      <th>income</th>\n",
       "      <th>member_days</th>\n",
       "      <th>started_year</th>\n",
       "      <th>started_month</th>\n",
       "    </tr>\n",
       "  </thead>\n",
       "  <tbody>\n",
       "    <tr>\n",
       "      <td>0</td>\n",
       "      <td>9b98b8c7a33c4b65b9aebfe6a799e6d9</td>\n",
       "      <td>78afa995795e4d85b5d9ceeca43f5fef</td>\n",
       "      <td>0.000000</td>\n",
       "      <td>0.036134</td>\n",
       "      <td>1</td>\n",
       "      <td>0.5</td>\n",
       "      <td>5</td>\n",
       "      <td>0.571429</td>\n",
       "      <td>1</td>\n",
       "      <td>0</td>\n",
       "      <td>...</td>\n",
       "      <td>1</td>\n",
       "      <td>1</td>\n",
       "      <td>0</td>\n",
       "      <td>0.0</td>\n",
       "      <td>0.686747</td>\n",
       "      <td>2017-05-09</td>\n",
       "      <td>0.777778</td>\n",
       "      <td>0.243006</td>\n",
       "      <td>0.8</td>\n",
       "      <td>0.363636</td>\n",
       "    </tr>\n",
       "    <tr>\n",
       "      <td>1</td>\n",
       "      <td>5a8bc65990b245e5a138643cd4eb9837</td>\n",
       "      <td>78afa995795e4d85b5d9ceeca43f5fef</td>\n",
       "      <td>0.291667</td>\n",
       "      <td>0.000000</td>\n",
       "      <td>0</td>\n",
       "      <td>0.0</td>\n",
       "      <td>0</td>\n",
       "      <td>0.000000</td>\n",
       "      <td>0</td>\n",
       "      <td>0</td>\n",
       "      <td>...</td>\n",
       "      <td>1</td>\n",
       "      <td>1</td>\n",
       "      <td>1</td>\n",
       "      <td>0.0</td>\n",
       "      <td>0.686747</td>\n",
       "      <td>2017-05-09</td>\n",
       "      <td>0.777778</td>\n",
       "      <td>0.243006</td>\n",
       "      <td>0.8</td>\n",
       "      <td>0.363636</td>\n",
       "    </tr>\n",
       "    <tr>\n",
       "      <td>2</td>\n",
       "      <td>ae264e3637204a6fb9bb56bc8210ddfd</td>\n",
       "      <td>78afa995795e4d85b5d9ceeca43f5fef</td>\n",
       "      <td>0.708333</td>\n",
       "      <td>0.000000</td>\n",
       "      <td>1</td>\n",
       "      <td>1.0</td>\n",
       "      <td>10</td>\n",
       "      <td>0.571429</td>\n",
       "      <td>1</td>\n",
       "      <td>0</td>\n",
       "      <td>...</td>\n",
       "      <td>1</td>\n",
       "      <td>1</td>\n",
       "      <td>1</td>\n",
       "      <td>0.0</td>\n",
       "      <td>0.686747</td>\n",
       "      <td>2017-05-09</td>\n",
       "      <td>0.777778</td>\n",
       "      <td>0.243006</td>\n",
       "      <td>0.8</td>\n",
       "      <td>0.363636</td>\n",
       "    </tr>\n",
       "    <tr>\n",
       "      <td>3</td>\n",
       "      <td>f19421c1d4aa40978ebb69ca19b0e20d</td>\n",
       "      <td>78afa995795e4d85b5d9ceeca43f5fef</td>\n",
       "      <td>0.875000</td>\n",
       "      <td>0.000000</td>\n",
       "      <td>1</td>\n",
       "      <td>0.5</td>\n",
       "      <td>5</td>\n",
       "      <td>0.285714</td>\n",
       "      <td>1</td>\n",
       "      <td>0</td>\n",
       "      <td>...</td>\n",
       "      <td>1</td>\n",
       "      <td>1</td>\n",
       "      <td>1</td>\n",
       "      <td>0.0</td>\n",
       "      <td>0.686747</td>\n",
       "      <td>2017-05-09</td>\n",
       "      <td>0.777778</td>\n",
       "      <td>0.243006</td>\n",
       "      <td>0.8</td>\n",
       "      <td>0.363636</td>\n",
       "    </tr>\n",
       "    <tr>\n",
       "      <td>4</td>\n",
       "      <td>2906b810c7d4411798c6938adc9daaa5</td>\n",
       "      <td>e2127556f4f64592b11af22de27a7932</td>\n",
       "      <td>0.000000</td>\n",
       "      <td>0.000000</td>\n",
       "      <td>0</td>\n",
       "      <td>0.2</td>\n",
       "      <td>10</td>\n",
       "      <td>0.571429</td>\n",
       "      <td>0</td>\n",
       "      <td>1</td>\n",
       "      <td>...</td>\n",
       "      <td>1</td>\n",
       "      <td>1</td>\n",
       "      <td>0</td>\n",
       "      <td>1.0</td>\n",
       "      <td>0.602410</td>\n",
       "      <td>2018-04-26</td>\n",
       "      <td>0.444444</td>\n",
       "      <td>0.049918</td>\n",
       "      <td>1.0</td>\n",
       "      <td>0.272727</td>\n",
       "    </tr>\n",
       "  </tbody>\n",
       "</table>\n",
       "<p>5 rows × 22 columns</p>\n",
       "</div>"
      ],
      "text/plain": [
       "                           offer_id                       customer_id  \\\n",
       "0  9b98b8c7a33c4b65b9aebfe6a799e6d9  78afa995795e4d85b5d9ceeca43f5fef   \n",
       "1  5a8bc65990b245e5a138643cd4eb9837  78afa995795e4d85b5d9ceeca43f5fef   \n",
       "2  ae264e3637204a6fb9bb56bc8210ddfd  78afa995795e4d85b5d9ceeca43f5fef   \n",
       "3  f19421c1d4aa40978ebb69ca19b0e20d  78afa995795e4d85b5d9ceeca43f5fef   \n",
       "4  2906b810c7d4411798c6938adc9daaa5  e2127556f4f64592b11af22de27a7932   \n",
       "\n",
       "       time  total_amount  successful_offer  reward  difficulty  duration  \\\n",
       "0  0.000000      0.036134                 1     0.5           5  0.571429   \n",
       "1  0.291667      0.000000                 0     0.0           0  0.000000   \n",
       "2  0.708333      0.000000                 1     1.0          10  0.571429   \n",
       "3  0.875000      0.000000                 1     0.5           5  0.285714   \n",
       "4  0.000000      0.000000                 0     0.2          10  0.571429   \n",
       "\n",
       "   bogo  discount  ...  email  mobile  social  gender       age  \\\n",
       "0     1         0  ...      1       1       0     0.0  0.686747   \n",
       "1     0         0  ...      1       1       1     0.0  0.686747   \n",
       "2     1         0  ...      1       1       1     0.0  0.686747   \n",
       "3     1         0  ...      1       1       1     0.0  0.686747   \n",
       "4     0         1  ...      1       1       0     1.0  0.602410   \n",
       "\n",
       "   became_member_on    income member_days  started_year  started_month  \n",
       "0        2017-05-09  0.777778    0.243006           0.8       0.363636  \n",
       "1        2017-05-09  0.777778    0.243006           0.8       0.363636  \n",
       "2        2017-05-09  0.777778    0.243006           0.8       0.363636  \n",
       "3        2017-05-09  0.777778    0.243006           0.8       0.363636  \n",
       "4        2018-04-26  0.444444    0.049918           1.0       0.272727  \n",
       "\n",
       "[5 rows x 22 columns]"
      ]
     },
     "execution_count": 106,
     "metadata": {},
     "output_type": "execute_result"
    }
   ],
   "source": [
    "# normalizing some numerical values \n",
    "from sklearn.preprocessing import MinMaxScaler\n",
    "scaler = MinMaxScaler()\n",
    "features = ['time', 'total_amount', 'reward', 'duration', 'duration','age', 'income', 'member_days','started_year','started_month']\n",
    "X_scaled = data.copy()\n",
    "X_scaled[features] = scaler.fit_transform(X_scaled[features])\n",
    "X_scaled.head()"
   ]
  },
  {
   "cell_type": "markdown",
   "metadata": {},
   "source": [
    "# Modeling"
   ]
  },
  {
   "cell_type": "code",
   "execution_count": 110,
   "metadata": {},
   "outputs": [
    {
     "name": "stdout",
     "output_type": "stream",
     "text": [
      "53200 training\n",
      "13301 testig\n"
     ]
    }
   ],
   "source": [
    "features = X_scaled.drop(columns=['successful_offer','offer_id','customer_id', 'became_member_on'])\n",
    "label = data.successful_offer\n",
    "\n",
    "# Split data into training and testing\n",
    "X_train, X_test, y_train, y_test = train_test_split(features.values, label.values, test_size=0.20, random_state=42)\n",
    "\n",
    "# Show the results of the split\n",
    "print(\"{} training\".format(X_train.shape[0]))\n",
    "print(\"{} testig\".format(X_test.shape[0]))\n",
    "\n",
    "\n",
    "X_train = X_train[:,:].astype('float64')\n",
    "\n",
    "# test-data: extract offer_id, total_amount and convert other features to float \n",
    "#offer_id_test = X_test[:, 0]\n",
    "#total_amount_test = X_test[:, 1]\n",
    "X_test = X_test[:, :].astype('float64')\n",
    "\n",
    "# convert train and test labels to array\n",
    "y_train = y_train.ravel()\n",
    "y_test = y_test.ravel()"
   ]
  },
  {
   "cell_type": "code",
   "execution_count": 124,
   "metadata": {
    "collapsed": true
   },
   "outputs": [],
   "source": [
    "def calculate_accuracy(model):\n",
    "        # F1 score\n",
    "        y_pred = model.predict(X_test)\n",
    "        y_pred=y_pred.round()\n",
    "\n",
    "        # macro accuracy (macro average)\n",
    "        mac = f1_score(y_test, y_pred, pos_label=None, average='macro')\n",
    "\n",
    "        # precision and recall\n",
    "        recall = recall_score(y_test, y_pred)\n",
    "        precision = precision_score(y_test, y_pred)\n",
    "        acc= accuracy_score(y_test, y_pred)\n",
    "        results = [acc,mac, precision, recall]\n",
    "        print(\"acc,f1_score, precision, recall\", results)\n"
   ]
  },
  {
   "cell_type": "markdown",
   "metadata": {},
   "source": [
    "### Model 1:  Naive Bayes"
   ]
  },
  {
   "cell_type": "code",
   "execution_count": 125,
   "metadata": {},
   "outputs": [
    {
     "name": "stdout",
     "output_type": "stream",
     "text": [
      "acc,f1_score, precision, recall [0.7090444327494173, 0.7060835732215132, 0.6459083273338133, 0.8541732783243415]\n"
     ]
    }
   ],
   "source": [
    "from sklearn.tree import DecisionTreeClassifier\n",
    "from sklearn.naive_bayes import GaussianNB \n",
    "from sklearn.neighbors import KNeighborsClassifier\n",
    "from sklearn.linear_model import LogisticRegression\n",
    "from sklearn.ensemble import RandomForestRegressor\n",
    "from sklearn.metrics import accuracy_score, f1_score, precision_score, recall_score, classification_report, confusion_matrix\n",
    "\n",
    "NB = GaussianNB() \n",
    "NB.fit(X_train, y_train)\n",
    "calculate_accuracy(NB)"
   ]
  },
  {
   "cell_type": "markdown",
   "metadata": {},
   "source": [
    "### Model 2: Support Vector Machine"
   ]
  },
  {
   "cell_type": "code",
   "execution_count": 126,
   "metadata": {},
   "outputs": [
    {
     "name": "stdout",
     "output_type": "stream",
     "text": [
      "acc,f1_score, precision, recall [0.7322005864220735, 0.7321985141448986, 0.6967825337546683, 0.769755633132339]\n"
     ]
    }
   ],
   "source": [
    "from sklearn.svm import SVC\n",
    "svm = SVC(gamma = 'auto')\n",
    "svm.fit(X_train, y_train)\n",
    "calculate_accuracy(svm)"
   ]
  },
  {
   "cell_type": "markdown",
   "metadata": {},
   "source": [
    "### Model 3: Random Forest"
   ]
  },
  {
   "cell_type": "code",
   "execution_count": 127,
   "metadata": {},
   "outputs": [
    {
     "name": "stdout",
     "output_type": "stream",
     "text": [
      "acc,f1_score, precision, recall [0.779490263889933, 0.7787175415057408, 0.7711250603573153, 0.7602348460806093]\n"
     ]
    }
   ],
   "source": [
    "RandomForrest = RandomForestRegressor(n_estimators = 100, random_state = 42)\n",
    "RandomForrest.fit(X_train, y_train)\n",
    "calculate_accuracy(RandomForrest)"
   ]
  },
  {
   "cell_type": "code",
   "execution_count": 130,
   "metadata": {},
   "outputs": [
    {
     "name": "stdout",
     "output_type": "stream",
     "text": [
      "acc,f1_score, precision, recall [0.7804676340124803, 0.7798098275035288, 0.7696109693877551, 0.7659473183116471]\n"
     ]
    }
   ],
   "source": [
    "RandomForrest = RandomForestRegressor(n_estimators = 400, random_state = 42)\n",
    "RandomForrest.fit(X_train, y_train)\n",
    "calculate_accuracy(RandomForrest)"
   ]
  },
  {
   "cell_type": "markdown",
   "metadata": {},
   "source": [
    "### Model 4: Decision Tree"
   ]
  },
  {
   "cell_type": "code",
   "execution_count": 129,
   "metadata": {},
   "outputs": [
    {
     "name": "stdout",
     "output_type": "stream",
     "text": [
      "acc,f1_score, precision, recall [0.7232538906849109, 0.7225624853007387, 0.7068666140489345, 0.7105680736274199]\n"
     ]
    }
   ],
   "source": [
    "DecisionTree = DecisionTreeClassifier()\n",
    "DecisionTree.fit(X_train, y_train)\n",
    "calculate_accuracy(DecisionTree)"
   ]
  }
 ],
 "metadata": {
  "kernelspec": {
   "display_name": "Python 3",
   "language": "python",
   "name": "python3"
  },
  "language_info": {
   "codemirror_mode": {
    "name": "ipython",
    "version": 3
   },
   "file_extension": ".py",
   "mimetype": "text/x-python",
   "name": "python",
   "nbconvert_exporter": "python",
   "pygments_lexer": "ipython3",
   "version": "3.6.3"
  }
 },
 "nbformat": 4,
 "nbformat_minor": 2
}
